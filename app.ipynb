{
 "cells": [
  {
   "cell_type": "markdown",
   "metadata": {
    "id": "Z_1WeIBfSDPU"
   },
   "source": [
    "# Cartoonifying Images and Videos\n"
   ]
  },
  {
   "cell_type": "code",
   "execution_count": null,
   "metadata": {
    "id": "2ujgoqgDSDPY"
   },
   "outputs": [],
   "source": [
    "import cv2\n",
    "import numpy as np\n",
    "import matplotlib.pyplot as plt\n",
    "import time\n",
    "import sys\n",
    "import os"
   ]
  },
  {
   "cell_type": "markdown",
   "metadata": {
    "id": "94JWggQzSDPZ"
   },
   "source": [
    "# Cartoonify Function"
   ]
  },
  {
   "cell_type": "code",
   "execution_count": null,
   "metadata": {
    "id": "VeRIbpVuSDPa"
   },
   "outputs": [],
   "source": [
    "def cartoonify(image):\n",
    "    grayScaleImage = cv2.cvtColor(image, cv2.COLOR_BGR2GRAY)\n",
    "    smoothGrayScale = cv2.medianBlur(grayScaleImage, 5)\n",
    "    getEdge = cv2.adaptiveThreshold(\n",
    "        smoothGrayScale, 255, cv2.ADAPTIVE_THRESH_MEAN_C, cv2.THRESH_BINARY, blockSize=9, C=9\n",
    "    )\n",
    "    colorImage = cv2.bilateralFilter(image, d=9, sigmaColor=75, sigmaSpace=75)\n",
    "    cartoonImage = cv2.bitwise_and(colorImage, colorImage, mask=getEdge)\n",
    "    return cartoonImage\n",
    "\n",
    "# Function to visualize FPS on the frame\n",
    "def visualize_fps(image, fps):\n",
    "    text_color = (0, 255, 0) if len(np.shape(image)) == 3 else (255, 255, 255)\n",
    "    cv2.putText(\n",
    "        image, f\"FPS: {fps:.2f}\", (10, 30), cv2.FONT_HERSHEY_SIMPLEX, 1, text_color, 2, cv2.LINE_AA\n",
    "    )\n",
    "    return image"
   ]
  },
  {
   "cell_type": "markdown",
   "metadata": {
    "id": "oERaBJV9SDPa"
   },
   "source": [
    "# Cartoonifying Images"
   ]
  },
  {
   "cell_type": "code",
   "execution_count": null,
   "metadata": {
    "colab": {
     "base_uri": "https://localhost:8080/",
     "height": 404
    },
    "id": "E_0N6B_eSDPb",
    "outputId": "4d333b96-4f3a-428d-e3ef-d427cee8e50d"
   },
   "outputs": [],
   "source": [
    "if __name__ == \"__main__\":\n",
    "    input_path = os.path.join(\"images\", \"Ali.jpg\")\n",
    "    image = cv2.imread(input_path)\n",
    "    cartoon_image = cartoonify(image)\n",
    "    cv2.imshow(\"Cartoonified Image\", cartoon_image)\n",
    "    cv2.waitKey(0)\n",
    "    cv2.destroyAllWindows()"
   ]
  },
  {
   "cell_type": "markdown",
   "metadata": {
    "id": "4iRWinbtSDPb"
   },
   "source": [
    "# Cartoonify Webcam Video Stream"
   ]
  },
  {
   "cell_type": "code",
   "execution_count": null,
   "metadata": {
    "id": "jtceAV76SDPc"
   },
   "outputs": [],
   "source": [
    "AMERA_DEVICE_ID = 0\n",
    "    IMAGE_WIDTH = 800\n",
    "    IMAGE_HEIGHT = 600\n",
    "    fps = 0\n",
    "\n",
    "    cap = cv2.VideoCapture(CAMERA_DEVICE_ID)\n",
    "    cap.set(cv2.CAP_PROP_FRAME_WIDTH, IMAGE_WIDTH)\n",
    "    cap.set(cv2.CAP_PROP_FRAME_HEIGHT, IMAGE_HEIGHT)\n",
    "\n",
    "    while True:\n",
    "        start_time = time.time()\n",
    "        ret, frame = cap.read()\n",
    "        if not ret:\n",
    "            break\n",
    "\n",
    "        frame = cv2.resize(frame, (IMAGE_WIDTH, IMAGE_HEIGHT))\n",
    "        frame = cartoonify(frame)\n",
    "        frame = visualize_fps(frame, fps)\n",
    "        cv2.imshow(\"Webcam Cartoonified\", frame)\n",
    "\n",
    "        end_time = time.time()\n",
    "        fps = 1 / (end_time - start_time) if end_time > start_time else 0\n",
    "\n",
    "        if cv2.waitKey(33) == 27:\n",
    "            break\n",
    "\n",
    "    cap.release()\n",
    "    cv2.destroyAllWindows()"
   ]
  },
  {
   "cell_type": "markdown",
   "metadata": {
    "id": "mVDa_1rkSDPd"
   },
   "source": [
    "# Cartoonifying Videos"
   ]
  },
  {
   "cell_type": "code",
   "execution_count": null,
   "metadata": {
    "colab": {
     "base_uri": "https://localhost:8080/"
    },
    "id": "p3jq-bjSSDPd",
    "outputId": "b7619a74-430d-403c-c8b3-7e6848e4cc70"
   },
   "outputs": [],
   "source": [
    "CAMERA_DEVICE_ID = os.path.join(\"videos\", \"Jobs_2.mp4\")\n",
    "    IMAGE_WIDTH = 1000\n",
    "    IMAGE_HEIGHT = 600\n",
    "    FRAME_RATE = 30\n",
    "    DURATION = 1 / FRAME_RATE\n",
    "\n",
    "    cap = cv2.VideoCapture(CAMERA_DEVICE_ID)\n",
    "    fourcc = cv2.VideoWriter_fourcc(*'mp4v')\n",
    "    output_folder = \"output\"\n",
    "    os.makedirs(output_folder, exist_ok=True)\n",
    "    output_path = os.path.join(output_folder, \"cartoon_output.mp4\")\n",
    "    out = cv2.VideoWriter(output_path, fourcc, FRAME_RATE, (IMAGE_WIDTH, IMAGE_HEIGHT))\n",
    "\n",
    "    while cap.isOpened():\n",
    "        start_time = time.time()\n",
    "        ret, frame = cap.read()\n",
    "        if not ret:\n",
    "            break\n",
    "\n",
    "        frame = cv2.resize(frame, (IMAGE_WIDTH, IMAGE_HEIGHT))\n",
    "        cartoon_frame = cartoonify(frame)\n",
    "        out.write(cartoon_frame)\n",
    "        cartoon_frame = visualize_fps(cartoon_frame, fps)\n",
    "        cv2.imshow(\"Video Cartoonified\", cartoon_frame)\n",
    "\n",
    "        end_time = time.time()\n",
    "        seconds = end_time - start_time\n",
    "        if seconds < DURATION:\n",
    "            time.sleep(DURATION - seconds)\n",
    "        fps = 1 / (time.time() - start_time)\n",
    "\n",
    "        if cv2.waitKey(33) == 27:\n",
    "            break\n",
    "\n",
    "    cap.release()\n",
    "    out.release()\n",
    "    cv2.destroyAllWindows()\n"
   ]
  }
 ],
 "metadata": {
  "colab": {
   "provenance": []
  },
  "kernelspec": {
   "display_name": "Python (CV_ENV)",
   "language": "python",
   "name": "cv_env"
  },
  "language_info": {
   "codemirror_mode": {
    "name": "ipython",
    "version": 3
   },
   "file_extension": ".py",
   "mimetype": "text/x-python",
   "name": "python",
   "nbconvert_exporter": "python",
   "pygments_lexer": "ipython3",
   "version": "3.10.11"
  }
 },
 "nbformat": 4,
 "nbformat_minor": 4
}
